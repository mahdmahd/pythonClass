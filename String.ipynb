{
 "cells": [
  {
   "cell_type": "markdown",
   "metadata": {},
   "source": [
    "<div style=\"text-align:right;font-weight:bold;font-size:x-large;font-style:italic\">رشته ها (String) </div>"
   ]
  },
  {
   "cell_type": "markdown",
   "metadata": {},
   "source": [
    "<div style=\"text-align:right\"> خوب بریم سراغ رشته ها.. جاهای زیادی دیدینشون و در آینده هم خیلی باهاشون کار دارین یه تعریف ساده دارن \"دنباله ای از کاراکترها\" بیاین با یه مثال ساده شروع کنیم</div>"
   ]
  },
  {
   "cell_type": "code",
   "execution_count": 1,
   "metadata": {},
   "outputs": [
    {
     "name": "stdout",
     "output_type": "stream",
     "text": [
      "mehdi Khadem IUMS\n"
     ]
    }
   ],
   "source": [
    "first_name = \"mehdi\"\n",
    "last_name = \"Khadem\"\n",
    "university = \"IUMS\"\n",
    "print(first_name,last_name,university)\n"
   ]
  },
  {
   "cell_type": "markdown",
   "metadata": {},
   "source": [
    "<div style=\"text-align:right\">خب رشته ها رو می تونیم به چند تا شکل تعریف کنیم</div>"
   ]
  },
  {
   "cell_type": "markdown",
   "metadata": {},
   "source": [
    "<div style=\"text-align:justify-left\">1.single quotation<br>2.double quotation<br>3.Triple quotation</div>"
   ]
  },
  {
   "cell_type": "markdown",
   "metadata": {},
   "source": [
    "<div style=\"text-align:right\">توی این سطح هیچ فرقی بین سینگل کوت و دبل کوت وجود نداره به جز کاربردشون:مثلا اگه می خوان یه توی رشته از دبل کوت استفاده کنید میتونید کلش رو بزارید توی سینگل کوت مثال زیر رو ببینید که کامل متوجه بشید</div>"
   ]
  },
  {
   "cell_type": "code",
   "execution_count": 2,
   "metadata": {},
   "outputs": [
    {
     "name": "stdout",
     "output_type": "stream",
     "text": [
      "man mitonam az \" estefade konam\n"
     ]
    }
   ],
   "source": [
    "sentence = 'man mitonam az \" estefade konam'\n",
    "print(sentence)"
   ]
  },
  {
   "cell_type": "markdown",
   "metadata": {},
   "source": [
    "<div style=\"text-align:right\">اما تریپل کوت فرق می کنه و واقعا بدرد میخوره مخصوصا برای رشته های چند خطی طولانی با کاراکتر های زیاد ببینیدش:</div>"
   ]
  },
  {
   "cell_type": "code",
   "execution_count": 3,
   "metadata": {},
   "outputs": [
    {
     "name": "stdout",
     "output_type": "stream",
     "text": [
      "in ye jomle chand khatie\n",
      "mibinid ke mitonam beram khat badi va hata az ' estefade konam\n"
     ]
    }
   ],
   "source": [
    "sentence = \"\"\"in ye jomle chand khatie\n",
    "mibinid ke mitonam beram khat badi va hata az ' estefade konam\"\"\"\n",
    "print(sentence)"
   ]
  },
  {
   "cell_type": "markdown",
   "metadata": {},
   "source": [
    "<div style=\"text-align:right\"> خب طبق تعریف رشته ها یه نوعی دنباله ان پس می تونیم اینجوری باهاشون کار کنیم و هر کدوم از اعضاشون رو داشته باشیم</div>"
   ]
  },
  {
   "cell_type": "code",
   "execution_count": 5,
   "metadata": {},
   "outputs": [
    {
     "name": "stdout",
     "output_type": "stream",
     "text": [
      "m d\n"
     ]
    }
   ],
   "source": [
    "name=\"mehdi\"\n",
    "print(name[0],name[-1],name[3])"
   ]
  },
  {
   "cell_type": "markdown",
   "metadata": {},
   "source": [
    "<div style=\"text-align:right\">همینطور طبق خاصیت دنباله ها من میتونم دو تا دنباله رو با هم جمع کنم</div>"
   ]
  },
  {
   "cell_type": "code",
   "execution_count": 7,
   "metadata": {},
   "outputs": [
    {
     "name": "stdout",
     "output_type": "stream",
     "text": [
      "Mehdi Khadem\n"
     ]
    }
   ],
   "source": [
    "fName=\"Mehdi\"\n",
    "lName=\"Khadem\"\n",
    "Name = fName +\" \"+ lName\n",
    "print(Name)"
   ]
  },
  {
   "cell_type": "markdown",
   "metadata": {},
   "source": [
    "<div style=\"text-align:right\">یا اینکه در یک عدد ضربشون کنم</div>"
   ]
  },
  {
   "cell_type": "code",
   "execution_count": 8,
   "metadata": {},
   "outputs": [
    {
     "name": "stdout",
     "output_type": "stream",
     "text": [
      "mehdimehdimehdi\n"
     ]
    }
   ],
   "source": [
    "fName=\"mehdi\"\n",
    "print(fName*3)"
   ]
  },
  {
   "cell_type": "markdown",
   "metadata": {},
   "source": [
    "<div style=\"text-align:right\">ولی نمی تونیم یه عدد رو با یه رشته جمع کنیم ارور میده(میگی نه امتحانش کن) ولی خود سه رو به عنوان یه کاراکتر می تونم با یه رشته جمع کنم منظورم چیه بنگر</div>"
   ]
  },
  {
   "cell_type": "code",
   "execution_count": 11,
   "metadata": {},
   "outputs": [
    {
     "ename": "TypeError",
     "evalue": "must be str, not int",
     "output_type": "error",
     "traceback": [
      "\u001b[0;31m---------------------------------------------------------------------------\u001b[0m",
      "\u001b[0;31mTypeError\u001b[0m                                 Traceback (most recent call last)",
      "\u001b[0;32m<ipython-input-11-525df7702506>\u001b[0m in \u001b[0;36m<module>\u001b[0;34m\u001b[0m\n\u001b[1;32m      1\u001b[0m \u001b[0mname\u001b[0m \u001b[0;34m=\u001b[0m \u001b[0;34m\"ali\"\u001b[0m\u001b[0;34m\u001b[0m\u001b[0m\n\u001b[0;32m----> 2\u001b[0;31m \u001b[0mprint\u001b[0m\u001b[0;34m(\u001b[0m\u001b[0mname\u001b[0m \u001b[0;34m+\u001b[0m \u001b[0;36m3\u001b[0m\u001b[0;34m)\u001b[0m\u001b[0;34m\u001b[0m\u001b[0m\n\u001b[0m",
      "\u001b[0;31mTypeError\u001b[0m: must be str, not int"
     ]
    }
   ],
   "source": [
    "name = \"ali\"\n",
    "print(name + 3)"
   ]
  },
  {
   "cell_type": "code",
   "execution_count": 12,
   "metadata": {},
   "outputs": [
    {
     "name": "stdout",
     "output_type": "stream",
     "text": [
      "ali3\n"
     ]
    }
   ],
   "source": [
    "name = \"ali\"\n",
    "print(name + \"3\")"
   ]
  },
  {
   "cell_type": "markdown",
   "metadata": {},
   "source": [
    "<div style=\"text-align:right\">همینطور می تونم از تابعی استفاده کنم که عدد رو به رشته تبدیل میکنه</div>"
   ]
  },
  {
   "cell_type": "code",
   "execution_count": 13,
   "metadata": {},
   "outputs": [
    {
     "name": "stdout",
     "output_type": "stream",
     "text": [
      "ali3.14156\n"
     ]
    }
   ],
   "source": [
    "name = \"ali\"\n",
    "number = str(3.14156)\n",
    "print(name + number)"
   ]
  }
 ],
 "metadata": {
  "kernelspec": {
   "display_name": "Python 3",
   "language": "python",
   "name": "python3"
  },
  "language_info": {
   "codemirror_mode": {
    "name": "ipython",
    "version": 3
   },
   "file_extension": ".py",
   "mimetype": "text/x-python",
   "name": "python",
   "nbconvert_exporter": "python",
   "pygments_lexer": "ipython3",
   "version": "3.6.6"
  }
 },
 "nbformat": 4,
 "nbformat_minor": 2
}
