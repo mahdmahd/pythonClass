{
 "cells": [
  {
   "cell_type": "markdown",
   "metadata": {},
   "source": [
    "<div style=\"text-align:right;font-weight:bold;font-size:x-large;font-style:italic\">String Encoding </div>"
   ]
  },
  {
   "cell_type": "markdown",
   "metadata": {},
   "source": [
    "<div style=\"text-align: right\"> خب می خوایم یه مروری داشته باشیم به درک کلی از انکدینگ یا کدگزاری رشته ها در محیط پایتون  انکدینگ یعنی چی اصلا؟ می دونید که زبون اصلی کامپیوتر صفر و یکه و فقط شعورش در همین حده حتی اعداد رو هم میبره تو مبنای دو بعد درکشون می کنه ولی ما انسان ها با حروف،کاراکتر ها،علائم و چیزای دیگه صحبت می کنیم به نظرتون کامپیوتر چجوری می تونه هر کدوم از این کاراکتر ها رو تو حافظه نگه داره؟ دقیقا درست حدس زدین یه عدد به هر کدومشون نسبت بده که به این کار میگن انکدینگ یا کدگزاری <br> خب حالا اینکه هر حرفی به چه عددی نسبت بشه یه قرارداده که خب همه سرش توافق دارن و بهش می گن استاندارد انکدینگ در شروع کار کامپیوتر ها اولین استاندارد اَسکی بود که خب 128 تا کاراکتر موردنیاز هر کامپیوتر رو کد کرده بود که فقط شامل حروف انگلیسی بود <br> Google it! ASCII Code </div>"
   ]
  },
  {
   "cell_type": "markdown",
   "metadata": {},
   "source": [
    "<div style=\"text-align: right\"> اولش که استاندارد اَسکی بود به هیچ زبون دیگه ای توجه نکرده بودن و فقط انگلیسی بود بعد کم کم استاندارد های دیگه اومدن که کاراکتر های زبون های دگ مثل فارسی رو داشتن مثل استاندارد یو تی اف-8 که بیش از یک میلیون کاراکتر رو انکد می کنه </div>"
   ]
  },
  {
   "cell_type": "markdown",
   "metadata": {},
   "source": [
    "<div style=\"text-align: right\"> خب بیاین بریم سراغ کد زدن خیلی مقدمه گفتم بیاین چیزایی که گفتیم رو امتحان کنیم تو پایتون تابعی داریم که با گرفتن یه حرف کد اَسکی اون حرف رو بهمون میده </div>"
   ]
  },
  {
   "cell_type": "code",
   "execution_count": 1,
   "metadata": {},
   "outputs": [
    {
     "name": "stdout",
     "output_type": "stream",
     "text": [
      "97\n",
      "65\n"
     ]
    }
   ],
   "source": [
    "asciiCode_a = ord('a')\n",
    "print(asciiCode_a)\n",
    "asciiCode_A = ord('A')\n",
    "print(asciiCode_A)"
   ]
  },
  {
   "cell_type": "markdown",
   "metadata": {},
   "source": [
    "<div style=\"text-align: right\"> همون طور که میبینید کد حروف بزرگ و کوچیک با هم متفاوته نکته دیگه که اینجا هست اینه پایتون از استاندارد یو تی اف -8 استفاده می کنه پس ما می تونیم کد حروف فارسی رو هم بگیریم</div>"
   ]
  },
  {
   "cell_type": "code",
   "execution_count": 3,
   "metadata": {},
   "outputs": [
    {
     "name": "stdout",
     "output_type": "stream",
     "text": [
      "1578\n",
      "1580\n"
     ]
    }
   ],
   "source": [
    "asciiCode1 = ord('ت')\n",
    "print(asciiCode1)\n",
    "asciiCode2 = ord('ج')\n",
    "print(asciiCode2)"
   ]
  },
  {
   "cell_type": "markdown",
   "metadata": {},
   "source": [
    "<div style=\"text-align: right\"> برعکس تابع بالا هم داریم که کد یه حرف رو می گیره و خود حرف رو برامون چاپ می کنه </div>"
   ]
  },
  {
   "cell_type": "code",
   "execution_count": 4,
   "metadata": {},
   "outputs": [
    {
     "name": "stdout",
     "output_type": "stream",
     "text": [
      "ت\n",
      "ج\n"
     ]
    }
   ],
   "source": [
    "asciiChar1578 = chr(1578)\n",
    "print(asciiChar1578)\n",
    "asciiChar1580 = chr(1580)\n",
    "print(asciiChar1580)"
   ]
  },
  {
   "cell_type": "markdown",
   "metadata": {},
   "source": [
    "<div style=\"text-align: right\"> خب بیاین یه مثال باحال بزنیم و کشف کنیم کدهای بالا مثلا 20000 و بالاترش چه حروفی رو کد می کنن </div>"
   ]
  },
  {
   "cell_type": "code",
   "execution_count": 5,
   "metadata": {},
   "outputs": [
    {
     "name": "stdout",
     "output_type": "stream",
     "text": [
      "丠両丢丣两严並丧丨丩个丫丬中丮丯丰丱串丳临丵丶丷丸丹为主丼丽举丿乀乁乂乃乄久乆乇么义乊之乌乍乎乏乐乑乒乓乔乕乖乗乘乙乚乛乜九乞也习乡乢乣乤乥书乧乨乩乪乫乬乭乮乯买乱乲乳乴乵乶乷乸乹乺乻乼乽乾乿亀亁亂亃亄亅了亇予争亊事二亍于亏亐云互亓五井亖亗亘亙亚些亜亝亞亟亠亡亢亣交亥亦产亨亩亪享京亭亮亯亰亱亲亳亴亵亶亷亸亹人亻亼亽亾亿什仁仂仃仄仅仆仇仈仉今介仌仍从仏仐仑仒仓仔仕他仗付仙仚仛仜仝仞仟仠仡仢代令以仦仧\n"
     ]
    }
   ],
   "source": [
    "#A program to print code\n",
    "s = ''\n",
    "for code in range(20000,20200):\n",
    "    s = s + chr(code)\n",
    "print(s)"
   ]
  },
  {
   "cell_type": "markdown",
   "metadata": {},
   "source": [
    "<div style=\"text-align:right;font-weight:bold;font-size:x-large;font-style:italic\">escape sequense </div>"
   ]
  },
  {
   "cell_type": "markdown",
   "metadata": {},
   "source": [
    "<div style=\"text-align: right\"> خب علاوه بر کاراکتر های حروف بالا که صحبتش رو مفصل کردیم من یه سری کاراکتر خاص دیگه هم میخوام که بتونم راحت تر کار کنم مثل سر خط بریم سراغ گوگل و سرچ کنیم <br> python escape sequense </div>"
   ]
  },
  {
   "cell_type": "markdown",
   "metadata": {},
   "source": [
    "<table border=\"\" align=\"center\" style=\"border-collapse: collapse\">\n",
    "  <thead>\n",
    "    <tr class=\"tableheader\">\n",
    "      <th align=\"left\"><b>Escape Sequence</b>&nbsp;</th>\n",
    "      <th align=\"left\"><b>Meaning</b>&nbsp;</th>\n",
    "    </tr></thead>\n",
    "  <tbody valign=\"baseline\">\n",
    "    <tr><td align=\"left\" valign=\"baseline\"><code>\\<var>newline</var></code></td>\n",
    "        <td align=\"left\">Ignored</td>\n",
    "    </tr><tr><td align=\"left\" valign=\"baseline\"><code>\\\\</code></td>\n",
    "        <td align=\"left\">Backslash (<code>\\</code>)</td>\n",
    "    </tr><tr><td align=\"left\" valign=\"baseline\"><code>\\'</code></td>\n",
    "        <td align=\"left\">Single quote (<code>'</code>)</td>\n",
    "    </tr><tr><td align=\"left\" valign=\"baseline\"><code>\\\"</code></td>\n",
    "        <td align=\"left\">Double quote (<code>\"</code>)</td>\n",
    "    </tr><tr><td align=\"left\" valign=\"baseline\"><code>\\a</code></td>\n",
    "        <td align=\"left\">ASCII Bell (BEL)</td>\n",
    "    </tr><tr><td align=\"left\" valign=\"baseline\"><code>\\b</code></td>\n",
    "        <td align=\"left\">ASCII Backspace (BS)</td>\n",
    "    </tr><tr><td align=\"left\" valign=\"baseline\"><code>\\f</code></td>\n",
    "        <td align=\"left\">ASCII Formfeed (FF)</td>\n",
    "    </tr><tr><td align=\"left\" valign=\"baseline\"><code>\\n</code></td>\n",
    "        <td align=\"left\">ASCII Linefeed (LF)</td>\n",
    "    </tr><tr><td align=\"left\" valign=\"baseline\"><code>\\r</code></td>\n",
    "        <td align=\"left\">ASCII Carriage Return (CR)</td>\n",
    "    </tr><tr><td align=\"left\" valign=\"baseline\"><code>\\t</code></td>\n",
    "        <td align=\"left\">ASCII Horizontal Tab (TAB)</td>\n",
    "    </tr><tr><td align=\"left\" valign=\"baseline\"><code>\\v</code></td>\n",
    "        <td align=\"left\">ASCII Vertical Tab (VT)</td>\n",
    "    </tr><tr><td align=\"left\" valign=\"baseline\"><code>\\<var>ooo</var></code></td>\n",
    "        <td align=\"left\">ASCII character with octal value <i>ooo</i></td>\n",
    "    </tr><tr><td align=\"left\" valign=\"baseline\"><code>\\x<var>hh...</var></code></td>\n",
    "        <td align=\"left\">ASCII character with hex value <i>hh...</i></td></tr></tbody>\n",
    "</table>"
   ]
  },
  {
   "cell_type": "markdown",
   "metadata": {},
   "source": [
    "<div style=\"text-align: right\"> خب اینا به چه دردی میخوره اگه بخواین تو یه استرینگ که دو طرفش دبل کوت از خود علامت دبل کوت استفاده کنید یا بخواین برین خط بعدی یا چیزای دیگه کافیه یه بک اسلچ قبلش بیارین</div>"
   ]
  },
  {
   "cell_type": "code",
   "execution_count": 6,
   "metadata": {},
   "outputs": [
    {
     "name": "stdout",
     "output_type": "stream",
     "text": [
      "dar in jomle az \" estefade shode ast\n",
      "in yek string \n",
      " do khati ast\n"
     ]
    }
   ],
   "source": [
    "string = \"dar in jomle az \\\" estefade shode ast\"\n",
    "print(string)\n",
    "stringWhitNewline = \"in yek string \\n do khati ast\"\n",
    "print(stringWhitNewline)"
   ]
  },
  {
   "cell_type": "markdown",
   "metadata": {},
   "source": [
    "<div style=\"text-align: right\"> یه کاربرد دیگه این کاراکتر ها وقتیه که میخواین تو استرینگ یه کدخاص یو تی اف-8 رو تایپ کنید مثلا میخواین بنویسین ج:بعد از بک اسلش یو کد مبنای 16 اون کاراکتر رو تایپ می کنین یعنی باید1580 رو ببرین تو مبنای 16 و جلوی بک اسلش یو بنویسینش دقت کنید حتما باید عدد جلو یو 4 رقمی باشه اگه سه رقمی بود عددتون یه 0 بزارین سمت راستش </div>"
   ]
  },
  {
   "cell_type": "code",
   "execution_count": 11,
   "metadata": {},
   "outputs": [
    {
     "name": "stdout",
     "output_type": "stream",
     "text": [
      "ج\n"
     ]
    }
   ],
   "source": [
    "print(\"\\u062C\")"
   ]
  }
 ],
 "metadata": {
  "kernelspec": {
   "display_name": "Python 3",
   "language": "python",
   "name": "python3"
  },
  "language_info": {
   "codemirror_mode": {
    "name": "ipython",
    "version": 3
   },
   "file_extension": ".py",
   "mimetype": "text/x-python",
   "name": "python",
   "nbconvert_exporter": "python",
   "pygments_lexer": "ipython3",
   "version": "3.7.0"
  }
 },
 "nbformat": 4,
 "nbformat_minor": 2
}
